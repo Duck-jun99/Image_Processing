{
 "cells": [
  {
   "cell_type": "code",
   "execution_count": 2,
   "id": "221f9f5b",
   "metadata": {},
   "outputs": [],
   "source": [
    "import numpy as np\n",
    "import cv2"
   ]
  },
  {
   "cell_type": "code",
   "execution_count": 3,
   "id": "41cb38fb",
   "metadata": {},
   "outputs": [
    {
     "name": "stdout",
     "output_type": "stream",
     "text": [
      "4.7.0\n"
     ]
    }
   ],
   "source": [
    "print(cv2.__version__)"
   ]
  },
  {
   "cell_type": "code",
   "execution_count": 37,
   "id": "0b06bf99",
   "metadata": {},
   "outputs": [],
   "source": [
    "from matplotlib import pyplot as plt\n",
    "\n",
    "img = cv2.imread('lenna.png')\n",
    "\n",
    "\n",
    "cv2.imshow('image', img)\n",
    "cv2.waitKey(0)\n",
    "cv2.destroyAllWindows()"
   ]
  },
  {
   "cell_type": "code",
   "execution_count": 14,
   "id": "e3c8ef1c",
   "metadata": {},
   "outputs": [
    {
     "name": "stdout",
     "output_type": "stream",
     "text": [
      "(512, 512, 3)\n"
     ]
    }
   ],
   "source": [
    "print (img.shape)"
   ]
  },
  {
   "cell_type": "code",
   "execution_count": 22,
   "id": "74d1441f",
   "metadata": {},
   "outputs": [],
   "source": [
    "(B, G, R) = cv2.split(img)"
   ]
  },
  {
   "cell_type": "code",
   "execution_count": 38,
   "id": "03cf8fd4",
   "metadata": {},
   "outputs": [],
   "source": [
    "zeros = np.zeros(img.shape[:2], dtype = \"uint8\")\n",
    "\n",
    "cv2.imshow(\"Red\", cv2.merge([zeros, zeros, R]))\n",
    "cv2.imshow(\"Green\", cv2.merge([zeros, G, zeros]))\n",
    "cv2.imshow(\"Blue\", cv2.merge([B, zeros, zeros]))\n",
    "\n",
    "cv2.waitKey(0)\n",
    "cv2.destroyAllWindows()"
   ]
  },
  {
   "cell_type": "code",
   "execution_count": 39,
   "id": "a4c3a17e",
   "metadata": {},
   "outputs": [],
   "source": [
    "img_gray = cv2.imread('lenna.png', cv2.IMREAD_GRAYSCALE) #Gray 영상으로 불러오기\n",
    "\n",
    "make_img_gray = np.around(0.299 * R + 0.587 * G + 0.114 * B) # 직접 Gray 영상 만들기\n",
    "make_img_gray = make_img_gray.astype('uint8')\n",
    "\n",
    "cv2.imshow('img_gray', img_gray)\n",
    "cv2.imshow('image_gray_made', make_img_gray)\n",
    "\n",
    "cv2.waitKey(0)\n",
    "cv2.destroyAllWindows()"
   ]
  },
  {
   "cell_type": "code",
   "execution_count": 32,
   "id": "74410136",
   "metadata": {},
   "outputs": [
    {
     "name": "stdout",
     "output_type": "stream",
     "text": [
      "(512, 512)\n"
     ]
    }
   ],
   "source": [
    "print(img_gray.shape)"
   ]
  },
  {
   "cell_type": "code",
   "execution_count": 41,
   "id": "d2ec09a2",
   "metadata": {},
   "outputs": [],
   "source": [
    "img_flip_lr = cv2.flip(img, 1) # 1은 좌우 반전\n",
    "img_flip_ud = cv2.flip(img, 0) # 0은 상하 반전\n",
    "\n",
    "cv2.imshow('image_flip1', img_flip_lr)\n",
    "cv2.imshow('image_flip2', img_flip_ud)\n",
    "cv2.waitKey(0)\n",
    "cv2.destroyAllWindows()"
   ]
  },
  {
   "cell_type": "code",
   "execution_count": null,
   "id": "b7277034",
   "metadata": {},
   "outputs": [],
   "source": []
  }
 ],
 "metadata": {
  "kernelspec": {
   "display_name": "Python 3 (ipykernel)",
   "language": "python",
   "name": "python3"
  },
  "language_info": {
   "codemirror_mode": {
    "name": "ipython",
    "version": 3
   },
   "file_extension": ".py",
   "mimetype": "text/x-python",
   "name": "python",
   "nbconvert_exporter": "python",
   "pygments_lexer": "ipython3",
   "version": "3.9.16"
  }
 },
 "nbformat": 4,
 "nbformat_minor": 5
}
